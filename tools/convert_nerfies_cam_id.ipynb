{
 "cells": [
  {
   "cell_type": "code",
   "execution_count": 1,
   "metadata": {},
   "outputs": [],
   "source": [
    "import os, os.path as osp\n",
    "\n",
    "src = \"../data/hypernerf_dev_2x/\"\n",
    "\n",
    "for scene_name in os.listdir(src):\n",
    "    working_dir = osp.join(src, scene_name)\n",
    "    os.rename(osp.join(working_dir, \"images\"), osp.join(working_dir, \"images_ori\"))\n",
    "    os.rename(osp.join(working_dir, \"cameras\"), osp.join(working_dir, \"cameras_ori\"))"
   ]
  },
  {
   "cell_type": "code",
   "execution_count": 3,
   "metadata": {},
   "outputs": [
    {
     "name": "stderr",
     "output_type": "stream",
     "text": [
      "  0%|          | 0/4 [00:00<?, ?it/s]"
     ]
    },
    {
     "name": "stderr",
     "output_type": "stream",
     "text": [
      "/tmp/ipykernel_2462069/1525633374.py:10: DeprecationWarning: Starting with ImageIO v3 the behavior of this function will switch to that of iio.v3.imread. To keep the current behavior (and make this warning disappear) use `import imageio.v2 as imageio` or call `imageio.v2.imread` directly.\n",
      "  img = imageio.imread(osp.join(working_dir, \"images_ori\", fn))\n",
      "100%|██████████| 4/4 [10:00<00:00, 150.21s/it]\n"
     ]
    }
   ],
   "source": [
    "import shutil\n",
    "import imageio\n",
    "from tqdm import tqdm\n",
    "\n",
    "for scene_name in tqdm(os.listdir(src)):\n",
    "    print(scene_name)\n",
    "    working_dir = osp.join(src, scene_name)\n",
    "    os.makedirs(osp.join(working_dir, \"images\"), exist_ok=True)\n",
    "    os.makedirs(osp.join(working_dir, \"cameras\"), exist_ok=True)\n",
    "    for fn in os.listdir(osp.join(working_dir, \"images_ori\")):\n",
    "        # img = imageio.imread(osp.join(working_dir, \"images_ori\", fn))\n",
    "        new_fn = \"2_\" + fn.split(\"_\")[1]\n",
    "        # imageio.imwrite(osp.join(working_dir, \"images\", new_fn), img )\n",
    "        cmd = f\"cp {osp.join(working_dir, 'images_ori', fn)} {osp.join(working_dir, 'images', new_fn)}\"\n",
    "    assert len(os.listdir(osp.join(working_dir, \"images\"))) == len(\n",
    "        os.listdir(osp.join(working_dir, \"images_ori\"))\n",
    "    )\n",
    "\n",
    "    for fn in os.listdir(osp.join(working_dir, \"cameras_ori\")):\n",
    "        new_fn = \"2_\" + fn.split(\"_\")[1]\n",
    "        shutil.copy(\n",
    "            osp.join(working_dir, \"cameras_ori\", fn),\n",
    "            osp.join(working_dir, \"cameras\", new_fn),\n",
    "        )"
   ]
  }
 ],
 "metadata": {
  "kernelspec": {
   "display_name": "vid24d",
   "language": "python",
   "name": "python3"
  },
  "language_info": {
   "codemirror_mode": {
    "name": "ipython",
    "version": 3
   },
   "file_extension": ".py",
   "mimetype": "text/x-python",
   "name": "python",
   "nbconvert_exporter": "python",
   "pygments_lexer": "ipython3",
   "version": "3.10.13"
  }
 },
 "nbformat": 4,
 "nbformat_minor": 2
}
