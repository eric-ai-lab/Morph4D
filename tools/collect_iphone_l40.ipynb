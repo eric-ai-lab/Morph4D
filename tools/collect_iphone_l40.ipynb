{
 "cells": [
  {
   "cell_type": "code",
   "execution_count": 3,
   "metadata": {},
   "outputs": [
    {
     "name": "stderr",
     "output_type": "stream",
     "text": [
      " 29%|██▊       | 2/7 [00:00<00:00, 18.07it/s]"
     ]
    },
    {
     "name": "stdout",
     "output_type": "stream",
     "text": [
      "apple\n",
      "../data/iphone_1x_dev/apple/log/native_iphone.yaml_dep=gt_gt_cam=False_20240512_015329/tto_dycheck_metrics.xlsx\n",
      "['AVE' 0 0 0 13.4395374480943 0.6644279751226418 0.618406714760661]\n",
      "13.4395374480943 0.6644279751226418 0.618406714760661\n",
      "block\n",
      "../data/iphone_1x_dev/block/log/native_iphone.yaml_dep=gt_gt_cam=False_20240512_024610/tto_dycheck_metrics.xlsx\n",
      "['AVE' 0 0 0 18.28102301121473 0.6756969005807765 0.2278027339305908]\n",
      "18.28102301121473 0.6756969005807765 0.2278027339305908\n"
     ]
    },
    {
     "name": "stderr",
     "output_type": "stream",
     "text": [
      "\n"
     ]
    },
    {
     "ename": "AssertionError",
     "evalue": "../data/iphone_1x_dev/paper-windmill/log/native_iphone.yaml_dep=gt_gt_cam=False_20240512_041746/tto_dycheck_metrics.xlsx does not exist",
     "output_type": "error",
     "traceback": [
      "\u001b[0;31m---------------------------------------------------------------------------\u001b[0m",
      "\u001b[0;31mAssertionError\u001b[0m                            Traceback (most recent call last)",
      "Cell \u001b[0;32mIn[3], line 44\u001b[0m\n\u001b[1;32m     42\u001b[0m log_dir \u001b[38;5;241m=\u001b[39m log_dirs[\u001b[38;5;241m-\u001b[39m\u001b[38;5;241m1\u001b[39m]\n\u001b[1;32m     43\u001b[0m fn \u001b[38;5;241m=\u001b[39m osp\u001b[38;5;241m.\u001b[39mjoin(root, scene_name, \u001b[38;5;124m\"\u001b[39m\u001b[38;5;124mlog\u001b[39m\u001b[38;5;124m\"\u001b[39m, log_dir, \u001b[38;5;124mf\u001b[39m\u001b[38;5;124m\"\u001b[39m\u001b[38;5;132;01m{\u001b[39;00mprefix\u001b[38;5;132;01m}\u001b[39;00m\u001b[38;5;124mdycheck_metrics.xlsx\u001b[39m\u001b[38;5;124m\"\u001b[39m)\n\u001b[0;32m---> 44\u001b[0m \u001b[38;5;28;01massert\u001b[39;00m osp\u001b[38;5;241m.\u001b[39mexists(fn), \u001b[38;5;124mf\u001b[39m\u001b[38;5;124m\"\u001b[39m\u001b[38;5;132;01m{\u001b[39;00mfn\u001b[38;5;132;01m}\u001b[39;00m\u001b[38;5;124m does not exist\u001b[39m\u001b[38;5;124m\"\u001b[39m\n\u001b[1;32m     46\u001b[0m \u001b[38;5;66;03m# read the first line of xls\u001b[39;00m\n\u001b[1;32m     47\u001b[0m df \u001b[38;5;241m=\u001b[39m pd\u001b[38;5;241m.\u001b[39mread_excel(fn)\u001b[38;5;241m.\u001b[39mto_numpy()\n",
      "\u001b[0;31mAssertionError\u001b[0m: ../data/iphone_1x_dev/paper-windmill/log/native_iphone.yaml_dep=gt_gt_cam=False_20240512_041746/tto_dycheck_metrics.xlsx does not exist"
     ]
    }
   ],
   "source": [
    "import os, os.path as osp\n",
    "import pandas as pd\n",
    "from tqdm import tqdm\n",
    "import datetime\n",
    "import shutil\n",
    "\n",
    "scene_name_list = [\n",
    "    \"apple\",\n",
    "    \"block\",\n",
    "    \"paper-windmill\",\n",
    "    \"space-out\",\n",
    "    \"spin\",\n",
    "    \"teddy\",\n",
    "    \"wheel\",\n",
    "]\n",
    "\n",
    "# root = \"../data/iphone_1x_dev/\"\n",
    "root = \"../data/iphone_1x_dev/\"\n",
    "\n",
    "# get curent time stamp\n",
    "backup_root = \"../data/iphone_dev_eval_backup\"\n",
    "# name = \"iphone_single_ref.yaml\"\n",
    "name=\"native_iphone.yaml_dep=gt_gt_cam=False\"\n",
    "\n",
    "backup_flag=False\n",
    "\n",
    "\n",
    "for tto_flag in [True]:\n",
    "    prefix = \"tto_\" if tto_flag else \"\"\n",
    "    backup_dir = osp.join(\n",
    "        backup_root, prefix + name + datetime.datetime.now().strftime(\"%Y%m%d_%H%M%S\")\n",
    "    )\n",
    "    os.makedirs(backup_dir, exist_ok=True)\n",
    "\n",
    "    results = {}\n",
    "    for scene_name in tqdm(scene_name_list):\n",
    "        # find the latest log\n",
    "        log_dirs = os.listdir(osp.join(root, scene_name, \"log\"))\n",
    "        log_dirs = [d for d in log_dirs if name in d]\n",
    "\n",
    "        log_dirs.sort()\n",
    "        log_dir = log_dirs[-1]\n",
    "        fn = osp.join(root, scene_name, \"log\", log_dir, f\"{prefix}dycheck_metrics.xlsx\")\n",
    "        assert osp.exists(fn), f\"{fn} does not exist\"\n",
    "\n",
    "        # read the first line of xls\n",
    "        df = pd.read_excel(fn).to_numpy()\n",
    "\n",
    "        psnr = float(df[0][-3])\n",
    "        ssim = float(df[0][-2])\n",
    "        lpips = float(df[0][-1])\n",
    "        print(scene_name)\n",
    "        print(fn)\n",
    "        print(df[0])\n",
    "        print(psnr, ssim, lpips)\n",
    "        results[f\"{scene_name}-psnr\"] = psnr\n",
    "        results[f\"{scene_name}-ssim\"] = ssim\n",
    "        results[f\"{scene_name}-lpips\"] = lpips\n",
    "        \n",
    "        if backup_flag:\n",
    "            # copy the log_dir into the backup\n",
    "            shutil.copytree(\n",
    "                osp.join(root, scene_name, \"log\", log_dir, f\"{prefix}test\"),\n",
    "                osp.join(backup_dir, prefix + scene_name + f\"{log_dir}_test\"),\n",
    "            )\n",
    "            # shutil.copytree(\n",
    "            #     osp.join(root, scene_name, \"log\", log_dir, \"test_viz\"),\n",
    "            #     osp.join(backup_dir, prefix + scene_name + f\"{log_dir}_test_viz\"),\n",
    "            # )\n",
    "    df = pd.DataFrame([results], index=[0])\n",
    "    df.to_excel(\n",
    "        osp.join(backup_dir, f\"{prefix}{name}_iphone_collected_masked_metrics.xlsx\")\n",
    "    )"
   ]
  },
  {
   "cell_type": "code",
   "execution_count": null,
   "metadata": {},
   "outputs": [],
   "source": []
  }
 ],
 "metadata": {
  "kernelspec": {
   "display_name": "vid24d",
   "language": "python",
   "name": "python3"
  },
  "language_info": {
   "codemirror_mode": {
    "name": "ipython",
    "version": 3
   },
   "file_extension": ".py",
   "mimetype": "text/x-python",
   "name": "python",
   "nbconvert_exporter": "python",
   "pygments_lexer": "ipython3",
   "version": "3.10.14"
  }
 },
 "nbformat": 4,
 "nbformat_minor": 2
}
