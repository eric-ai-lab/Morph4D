{
 "cells": [
  {
   "cell_type": "markdown",
   "metadata": {},
   "source": [
    "# Enhance static quality"
   ]
  },
  {
   "cell_type": "code",
   "execution_count": 1,
   "metadata": {},
   "outputs": [
    {
     "name": "stdout",
     "output_type": "stream",
     "text": [
      "Jupyter environment detected. Enabling Open3D WebVisualizer.\n",
      "[Open3D INFO] WebRTC GUI backend enabled.\n",
      "[Open3D INFO] WebRTCWindowSystem: HTTP handshake server disabled.\n"
     ]
    }
   ],
   "source": [
    "%load_ext autoreload\n",
    "%autoreload 2\n",
    "\n",
    "import imageio\n",
    "from matplotlib import pyplot as plt\n",
    "import torch, numpy as np\n",
    "import torch\n",
    "import os, os.path as osp\n",
    "import logging\n",
    "from lib_4d.solver_gs import Solver\n",
    "from lib_4d.gs_static_model import StaticGaussian\n",
    "from lib_4d.gs_dyn_model import DenseDynGaussian\n",
    "from lib_4d.camera import SimpleFovCameras\n",
    "from lib_4d.cfg_helpers import OptimCFG, GSControlCFG\n",
    "from lib_prior.diffusion.sd_sds import StableDiffusionSDS\n",
    "from tqdm import tqdm"
   ]
  },
  {
   "cell_type": "code",
   "execution_count": 10,
   "metadata": {},
   "outputs": [
    {
     "name": "stderr",
     "output_type": "stream",
     "text": [
      "| endurance | INFO | Jan-18-17:18:01 | Loading motion masks...   [solver_utils.py:117]\n",
      "100%|██████████| 80/80 [00:00<00:00, 2404.77it/s]\n",
      "| endurance | INFO | Jan-18-17:18:01 | Loading motion masks...   [solver_utils.py:117]\n",
      "100%|██████████| 80/80 [00:00<00:00, 3217.02it/s]"
     ]
    },
    {
     "name": "stderr",
     "output_type": "stream",
     "text": [
      "\n",
      "| endurance | INFO | Jan-18-17:18:01 | Loading flows...   [solver_utils.py:58]\n",
      "100%|██████████| 79/79 [00:00<00:00, 295.23it/s]\n",
      "| endurance | INFO | Jan-18-17:18:01 | Loading rgbs...   [solver_utils.py:42]\n",
      "100%|██████████| 80/80 [00:00<00:00, 303.12it/s]\n",
      "| endurance | INFO | Jan-18-17:18:02 | Loading depths from ./data/DAVIS/train/zoe_depth ...   [solver_utils.py:102]\n",
      "100%|██████████| 80/80 [00:00<00:00, 137.36it/s]\n",
      "| endurance | INFO | Jan-18-17:18:02 | rgbs: (80, 480, 854, 3), depths: (80, 480, 854), flows: [158,(480, 854, 2)], motion_masks: (80, 480, 854)   [solver_utils.py:188]\n",
      "| endurance | INFO | Jan-18-17:18:02 | Filtering depth maps...   [solver_utils.py:229]\n",
      "100%|██████████| 80/80 [00:00<00:00, 458.56it/s]\n",
      "| endurance | INFO | Jan-18-17:18:03 | rounding the flow ...   [prior2d.py:114]\n",
      "100%|██████████| 158/158 [00:00<00:00, 723.85it/s]\n",
      "| endurance | INFO | Jan-18-17:18:03 | Loading static model from data/DAVIS/train/log/20240117_143638/joint_model.pth   [gs_static_model.py:68]\n",
      "| endurance | INFO | Jan-18-17:18:03 | StaticGaussian: 218.3K points   [gs_static_model.py:109]\n",
      "| endurance | INFO | Jan-18-17:18:03 | _xyz, 0.655M   [gs_static_model.py:112]\n",
      "| endurance | INFO | Jan-18-17:18:03 | _features_dc, 0.655M   [gs_static_model.py:112]\n",
      "| endurance | INFO | Jan-18-17:18:03 | _features_rest, 0.000M   [gs_static_model.py:112]\n",
      "| endurance | INFO | Jan-18-17:18:03 | _opacity, 0.218M   [gs_static_model.py:112]\n",
      "| endurance | INFO | Jan-18-17:18:03 | _scaling, 0.655M   [gs_static_model.py:112]\n",
      "| endurance | INFO | Jan-18-17:18:03 | _rotation, 0.873M   [gs_static_model.py:112]\n",
      "| endurance | INFO | Jan-18-17:18:03 | ------------------------------   [gs_static_model.py:113]\n",
      "| endurance | INFO | Jan-18-17:18:03 | Loading dynamic model from data/DAVIS/train/log/20240117_144846/joint_dyn_model_1.0res.pth   [gs_dyn_model.py:75]\n",
      "| endurance | INFO | Jan-18-17:18:03 | DenseDynGaussian: 28.6K points and 80 time step   [gs_dyn_model.py:119]\n",
      "| endurance | INFO | Jan-18-17:18:03 | _xyz, 6.872M   [gs_dyn_model.py:124]\n",
      "| endurance | INFO | Jan-18-17:18:03 | _features_dc, 0.086M   [gs_dyn_model.py:124]\n",
      "| endurance | INFO | Jan-18-17:18:03 | _features_rest, 0.000M   [gs_dyn_model.py:124]\n",
      "| endurance | INFO | Jan-18-17:18:03 | _opacity, 0.029M   [gs_dyn_model.py:124]\n",
      "| endurance | INFO | Jan-18-17:18:03 | _scaling, 0.086M   [gs_dyn_model.py:124]\n",
      "| endurance | INFO | Jan-18-17:18:03 | _rotation, 9.163M   [gs_dyn_model.py:124]\n",
      "| endurance | INFO | Jan-18-17:18:03 | ------------------------------   [gs_dyn_model.py:125]\n"
     ]
    }
   ],
   "source": [
    "src = \"./data/DAVIS/train\"\n",
    "static_saved_dir = \"data/DAVIS/train/log/20240117_143638\"\n",
    "dyn_saved_dir = \"data/DAVIS/train/log/20240117_144846\"\n",
    "device = torch.device(\"cuda:0\")\n",
    "\n",
    "solver = Solver(src, device, depth_mode=\"zoe\")\n",
    "\n",
    "model_fn = osp.join(static_saved_dir, \"joint_model.pth\")\n",
    "cam_fn = osp.join(static_saved_dir, \"joint_cams.pth\")\n",
    "static_model = StaticGaussian(load_fn=model_fn).to(solver.device)\n",
    "cams: SimpleFovCameras = SimpleFovCameras(solver.T, 40.0)\n",
    "cams.load_state_dict(torch.load(cam_fn), strict=True)\n",
    "cams.to(solver.device)\n",
    "dyn_model_fn = osp.join(dyn_saved_dir, \"joint_dyn_model_1.0res.pth\")\n",
    "dyn_model = DenseDynGaussian(load_fn=dyn_model_fn).to(solver.device)"
   ]
  },
  {
   "cell_type": "code",
   "execution_count": 16,
   "metadata": {},
   "outputs": [
    {
     "name": "stderr",
     "output_type": "stream",
     "text": [
      "  0%|          | 0/80 [00:00<?, ?it/s]"
     ]
    },
    {
     "name": "stderr",
     "output_type": "stream",
     "text": [
      "100%|██████████| 80/80 [00:01<00:00, 72.73it/s]\n"
     ]
    }
   ],
   "source": [
    "# get all cams rendering for training frame\n",
    "rendered_list = []\n",
    "with torch.no_grad():\n",
    "    for tid in tqdm(range(cams.T)):\n",
    "        _dict = solver.render_frame(cams.rel_focal, cams, 40, static_model, dyn_model, render_view_id=tid)\n",
    "        rendered_list.append(_dict)\n",
    "invalid_masks = (~solver.prior2d.sky_masks).clone() # used to mask out sky"
   ]
  },
  {
   "cell_type": "code",
   "execution_count": 17,
   "metadata": {},
   "outputs": [
    {
     "name": "stderr",
     "output_type": "stream",
     "text": [
      "  0%|          | 0/80 [00:00<?, ?it/s]"
     ]
    },
    {
     "name": "stderr",
     "output_type": "stream",
     "text": [
      "100%|██████████| 80/80 [00:01<00:00, 50.86it/s]\n"
     ]
    },
    {
     "name": "stdout",
     "output_type": "stream",
     "text": [
      "\n"
     ]
    }
   ],
   "source": [
    "from lib_4d.gs_geo_helpers import tsdf_meshing\n",
    "\n",
    "tsdf_meshing(\n",
    "    rendered_dict_list=rendered_list,\n",
    "    cams=cams,\n",
    "    invalid_masks=invalid_masks,\n",
    ")"
   ]
  }
 ],
 "metadata": {
  "kernelspec": {
   "display_name": "vid24d",
   "language": "python",
   "name": "python3"
  },
  "language_info": {
   "codemirror_mode": {
    "name": "ipython",
    "version": 3
   },
   "file_extension": ".py",
   "mimetype": "text/x-python",
   "name": "python",
   "nbconvert_exporter": "python",
   "pygments_lexer": "ipython3",
   "version": "3.10.13"
  }
 },
 "nbformat": 4,
 "nbformat_minor": 2
}
