{
 "cells": [
  {
   "cell_type": "code",
   "execution_count": 2,
   "metadata": {},
   "outputs": [
    {
     "name": "stderr",
     "output_type": "stream",
     "text": [
      "  0%|          | 0/7 [00:00<?, ?it/s]"
     ]
    },
    {
     "name": "stdout",
     "output_type": "stream",
     "text": [
      "Jumping\n",
      "../data/nvidia/Jumping/log/gof_nvidia.yaml_dep=uni_gt_cam=False_20240518_214823/tto_test_report/nvidia_render_metrics.txt\n",
      "['PSNR: 25.344035\\n', 'SSIM: 0.827458\\n', 'LPIPS: 0.088449\\n']\n",
      "25.344035 0.827458 0.088449\n"
     ]
    },
    {
     "name": "stderr",
     "output_type": "stream",
     "text": [
      " 14%|█▍        | 1/7 [00:00<00:02,  2.27it/s]"
     ]
    },
    {
     "name": "stdout",
     "output_type": "stream",
     "text": [
      "Skating\n",
      "../data/nvidia/Skating/log/gof_nvidia.yaml_dep=uni_gt_cam=False_20240518_211713/tto_test_report/nvidia_render_metrics.txt\n",
      "['PSNR: 33.251192\\n', 'SSIM: 0.949150\\n', 'LPIPS: 0.034649\\n']\n",
      "33.251192 0.94915 0.034649\n"
     ]
    },
    {
     "name": "stderr",
     "output_type": "stream",
     "text": [
      " 29%|██▊       | 2/7 [00:00<00:01,  2.51it/s]"
     ]
    },
    {
     "name": "stdout",
     "output_type": "stream",
     "text": [
      "Truck\n",
      "../data/nvidia/Truck/log/gof_nvidia.yaml_dep=uni_gt_cam=False_20240518_220043/tto_test_report/nvidia_render_metrics.txt\n",
      "['PSNR: 28.789906\\n', 'SSIM: 0.857662\\n', 'LPIPS: 0.075882\\n']\n",
      "28.789906 0.857662 0.075882\n"
     ]
    },
    {
     "name": "stderr",
     "output_type": "stream",
     "text": [
      " 43%|████▎     | 3/7 [00:01<00:02,  1.83it/s]"
     ]
    },
    {
     "name": "stdout",
     "output_type": "stream",
     "text": [
      "Umbrella\n",
      "../data/nvidia/Umbrella/log/gof_nvidia.yaml_dep=uni_gt_cam=False_20240518_211725/tto_test_report/nvidia_render_metrics.txt\n",
      "['PSNR: 24.024935\\n', 'SSIM: 0.759114\\n', 'LPIPS: 0.096187\\n']\n",
      "24.024935 0.759114 0.096187\n"
     ]
    },
    {
     "name": "stderr",
     "output_type": "stream",
     "text": [
      " 57%|█████▋    | 4/7 [00:02<00:02,  1.27it/s]"
     ]
    },
    {
     "name": "stdout",
     "output_type": "stream",
     "text": [
      "Balloon1\n",
      "../data/nvidia/Balloon1/log/gof_nvidia.yaml_dep=uni_gt_cam=False_20240518_225806/tto_test_report/nvidia_render_metrics.txt\n",
      "['PSNR: 22.749783\\n', 'SSIM: 0.796207\\n', 'LPIPS: 0.096646\\n']\n",
      "22.749783 0.796207 0.096646\n"
     ]
    },
    {
     "name": "stderr",
     "output_type": "stream",
     "text": [
      " 71%|███████▏  | 5/7 [00:03<00:01,  1.36it/s]"
     ]
    },
    {
     "name": "stdout",
     "output_type": "stream",
     "text": [
      "Balloon2\n",
      "../data/nvidia/Balloon2/log/gof_nvidia.yaml_dep=uni_gt_cam=False_20240518_204511/tto_test_report/nvidia_render_metrics.txt\n",
      "['PSNR: 28.286349\\n', 'SSIM: 0.885256\\n', 'LPIPS: 0.045300\\n']\n",
      "28.286349 0.885256 0.0453\n"
     ]
    },
    {
     "name": "stderr",
     "output_type": "stream",
     "text": [
      " 86%|████████▌ | 6/7 [00:04<00:00,  1.05it/s]"
     ]
    },
    {
     "name": "stdout",
     "output_type": "stream",
     "text": [
      "Playground\n",
      "../data/nvidia/Playground/log/gof_nvidia.yaml_dep=uni_gt_cam=False_20240518_204504/tto_test_report/nvidia_render_metrics.txt\n",
      "['PSNR: 22.947290\\n', 'SSIM: 0.882301\\n', 'LPIPS: 0.064911\\n']\n",
      "22.94729 0.882301 0.064911\n"
     ]
    },
    {
     "name": "stderr",
     "output_type": "stream",
     "text": [
      "100%|██████████| 7/7 [00:06<00:00,  1.01it/s]\n"
     ]
    }
   ],
   "source": [
    "import os, os.path as osp\n",
    "import pandas as pd\n",
    "from tqdm import tqdm\n",
    "import datetime\n",
    "import shutil\n",
    "\n",
    "scene_name_list = [\n",
    "    \"Jumping\",\n",
    "    \"Skating\",\n",
    "    \"Truck\",\n",
    "    \"Umbrella\",\n",
    "    \"Balloon1\",\n",
    "    \"Balloon2\",\n",
    "    \"Playground\",\n",
    "]\n",
    "\n",
    "root = \"../data/nvidia/\"\n",
    "\n",
    "# get curent time stamp\n",
    "backup_root = \"../data/nvidia_dev_eval_backup\"\n",
    "# name = \"native_nvidia_nonodectrl.yaml_dep=uni_gt_cam=True\"\n",
    "# name = \"native_nvidia_noskcorr.yaml_dep=uni_gt_cam=True\"\n",
    "name = \"gof_nvidia.yaml_dep=uni_gt_cam=False\"\n",
    "\n",
    "prefix = \"tto_\"\n",
    "full_backup=True\n",
    "\n",
    "backup_dir = osp.join(\n",
    "    backup_root, prefix + name + datetime.datetime.now().strftime(\"%Y%m%d_%H%M%S\")\n",
    ")\n",
    "\n",
    "results = {}\n",
    "for scene_name in tqdm(scene_name_list):\n",
    "    # find the latest log\n",
    "    log_dirs = os.listdir(osp.join(root, scene_name, \"log\"))\n",
    "    log_dirs = [d for d in log_dirs if name in d]\n",
    "\n",
    "    log_dirs.sort()\n",
    "    log_dir = log_dirs[-1]\n",
    "    fn = osp.join(\n",
    "        root,\n",
    "        scene_name,\n",
    "        \"log\",\n",
    "        log_dir,\n",
    "        f\"{prefix}test_report\",\n",
    "        \"nvidia_render_metrics.txt\",\n",
    "    )\n",
    "    assert osp.exists(fn), f\"{fn} does not exist\"\n",
    "    with open(fn, \"r\") as f:\n",
    "        lines = f.readlines()\n",
    "    psnr = float(lines[0].split(\":\")[-1][:-1])\n",
    "    ssim = float(lines[1].split(\":\")[-1][:-1])\n",
    "    lpips = float(lines[2].split(\":\")[-1][:-1])\n",
    "    print(scene_name)\n",
    "    print(fn)\n",
    "    print(lines)\n",
    "    print(psnr, ssim, lpips)\n",
    "    results[f\"{scene_name}-psnr\"] = psnr\n",
    "    # results[f\"{scene_name}-ssim\"] = ssim\n",
    "    results[f\"{scene_name}-lpips\"] = lpips\n",
    "    # copy the log_dir into the backup\n",
    "    if full_backup:\n",
    "        shutil.copytree(\n",
    "            osp.join(root, scene_name, \"log\", log_dir),\n",
    "            osp.join(backup_dir, f\"{scene_name}_{log_dir}\"),\n",
    "        )\n",
    "    else:\n",
    "        shutil.copytree(\n",
    "            osp.join(root, scene_name, \"log\", log_dir, f\"{prefix}test\"),\n",
    "            osp.join(backup_dir, scene_name + \"_test\"),\n",
    "        )\n",
    "        shutil.copytree(\n",
    "            osp.join(root, scene_name, \"log\", log_dir, f\"{prefix}test_report\"),\n",
    "            osp.join(backup_dir, scene_name + \"_test_report\"),\n",
    "        )\n",
    "df = pd.DataFrame([results], index=[0])\n",
    "df.to_excel(osp.join(backup_dir, f\"{prefix}{name}_nvidia_metrics.xlsx\"))"
   ]
  }
 ],
 "metadata": {
  "kernelspec": {
   "display_name": "vid24d",
   "language": "python",
   "name": "python3"
  },
  "language_info": {
   "codemirror_mode": {
    "name": "ipython",
    "version": 3
   },
   "file_extension": ".py",
   "mimetype": "text/x-python",
   "name": "python",
   "nbconvert_exporter": "python",
   "pygments_lexer": "ipython3",
   "version": "3.10.13"
  }
 },
 "nbformat": 4,
 "nbformat_minor": 2
}
