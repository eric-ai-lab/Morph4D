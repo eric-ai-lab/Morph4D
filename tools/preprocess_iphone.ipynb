{
 "cells": [
  {
   "cell_type": "markdown",
   "metadata": {},
   "source": [
    "extract the training views"
   ]
  },
  {
   "cell_type": "code",
   "execution_count": 1,
   "metadata": {},
   "outputs": [
    {
     "name": "stdout",
     "output_type": "stream",
     "text": [
      "dict_keys(['camera_ids', 'frame_names', 'time_ids'])\n"
     ]
    },
    {
     "name": "stderr",
     "output_type": "stream",
     "text": [
      "532it [00:10, 49.04it/s]\n"
     ]
    },
    {
     "name": "stdout",
     "output_type": "stream",
     "text": [
      "dict_keys(['camera_ids', 'frame_names', 'time_ids'])\n"
     ]
    },
    {
     "name": "stderr",
     "output_type": "stream",
     "text": [
      "475it [00:32, 14.58it/s]\n"
     ]
    },
    {
     "name": "stdout",
     "output_type": "stream",
     "text": [
      "dict_keys(['camera_ids', 'frame_names', 'time_ids'])\n"
     ]
    },
    {
     "name": "stderr",
     "output_type": "stream",
     "text": [
      "667it [00:13, 50.87it/s]\n"
     ]
    },
    {
     "name": "stdout",
     "output_type": "stream",
     "text": [
      "dict_keys(['camera_ids', 'frame_names', 'time_ids'])\n"
     ]
    },
    {
     "name": "stderr",
     "output_type": "stream",
     "text": [
      "447it [00:30, 14.44it/s]\n"
     ]
    },
    {
     "name": "stdout",
     "output_type": "stream",
     "text": [
      "dict_keys(['camera_ids', 'frame_names', 'time_ids'])\n"
     ]
    },
    {
     "name": "stderr",
     "output_type": "stream",
     "text": [
      "419it [00:08, 49.50it/s]\n"
     ]
    },
    {
     "name": "stdout",
     "output_type": "stream",
     "text": [
      "dict_keys(['camera_ids', 'frame_names', 'time_ids'])\n"
     ]
    },
    {
     "name": "stderr",
     "output_type": "stream",
     "text": [
      "277it [00:20, 13.60it/s]\n"
     ]
    },
    {
     "name": "stdout",
     "output_type": "stream",
     "text": [
      "dict_keys(['camera_ids', 'frame_names', 'time_ids'])\n"
     ]
    },
    {
     "name": "stderr",
     "output_type": "stream",
     "text": [
      "681it [00:12, 52.99it/s]\n"
     ]
    },
    {
     "name": "stdout",
     "output_type": "stream",
     "text": [
      "dict_keys(['camera_ids', 'frame_names', 'time_ids'])\n"
     ]
    },
    {
     "name": "stderr",
     "output_type": "stream",
     "text": [
      "429it [00:28, 15.19it/s]\n"
     ]
    },
    {
     "name": "stdout",
     "output_type": "stream",
     "text": [
      "dict_keys(['camera_ids', 'frame_names', 'time_ids'])\n"
     ]
    },
    {
     "name": "stderr",
     "output_type": "stream",
     "text": [
      "722it [00:14, 50.51it/s]\n"
     ]
    },
    {
     "name": "stdout",
     "output_type": "stream",
     "text": [
      "dict_keys(['camera_ids', 'frame_names', 'time_ids'])\n"
     ]
    },
    {
     "name": "stderr",
     "output_type": "stream",
     "text": [
      "426it [00:29, 14.61it/s]\n"
     ]
    },
    {
     "name": "stdout",
     "output_type": "stream",
     "text": [
      "dict_keys(['camera_ids', 'frame_names', 'time_ids'])\n"
     ]
    },
    {
     "name": "stderr",
     "output_type": "stream",
     "text": [
      "688it [00:14, 48.05it/s]\n"
     ]
    },
    {
     "name": "stdout",
     "output_type": "stream",
     "text": [
      "dict_keys(['camera_ids', 'frame_names', 'time_ids'])\n"
     ]
    },
    {
     "name": "stderr",
     "output_type": "stream",
     "text": [
      "472it [00:34, 13.79it/s]\n"
     ]
    },
    {
     "name": "stdout",
     "output_type": "stream",
     "text": [
      "dict_keys(['camera_ids', 'frame_names', 'time_ids'])\n"
     ]
    },
    {
     "name": "stderr",
     "output_type": "stream",
     "text": [
      "219it [00:05, 43.58it/s]\n"
     ]
    },
    {
     "name": "stdout",
     "output_type": "stream",
     "text": [
      "dict_keys(['camera_ids', 'frame_names', 'time_ids'])\n"
     ]
    },
    {
     "name": "stderr",
     "output_type": "stream",
     "text": [
      "437it [00:31, 13.84it/s]\n"
     ]
    }
   ],
   "source": [
    "import os, os.path as osp\n",
    "import json\n",
    "from tqdm import tqdm\n",
    "import cv2 as cv\n",
    "import numpy as np\n",
    "import shutil\n",
    "\n",
    "name_list = [\"apple\", \"block\", \"paper-windmill\", \"space-out\", \"spin\", \"teddy\", \"wheel\"]\n",
    "\n",
    "# ! assume training is always cam 0, test is always camera 1 and 2\n",
    "# ! use PNG not JPG!!\n",
    "\n",
    "for name in name_list:\n",
    "\n",
    "    src = f\"../data/iphone_original/{name}/\"\n",
    "    SKIP = 4\n",
    "    dst = f\"../data/iphone_4x_raw/{name}/\"\n",
    "\n",
    "    # val\n",
    "    val_js = osp.join(src, \"splits\", \"val.json\")\n",
    "    with open(val_js, \"r\") as f:\n",
    "        val_js_data = json.load(f)\n",
    "    print(val_js_data.keys())\n",
    "    val_frames = val_js_data[\"frame_names\"]\n",
    "    src_image_dir = osp.join(src, \"rgb\", \"2x\")\n",
    "    dst_image_dir = osp.join(dst, \"test_images\")\n",
    "    src_cam_dir = osp.join(src, \"camera\")\n",
    "    dst_cam_dir = osp.join(dst, \"test_cameras\")\n",
    "    os.makedirs(dst_image_dir, exist_ok=True)\n",
    "    os.makedirs(dst_cam_dir, exist_ok=True)\n",
    "\n",
    "    src_vis_dir = osp.join(src, \"covisible\", \"2x\", \"val\")\n",
    "    dst_vis_dir = osp.join(dst, \"test_covisible\")\n",
    "    os.makedirs(dst_vis_dir, exist_ok=True)\n",
    "\n",
    "    for _, f in tqdm(enumerate(val_frames)):\n",
    "        # image\n",
    "        src_fn = osp.join(src_image_dir, f + \".png\")\n",
    "        assert osp.exists(src_fn), f\"{src_fn} does not exist\"\n",
    "        img = cv.imread(src_fn)\n",
    "        dst_fn = osp.join(dst_image_dir, f + \".png\")\n",
    "        cv.imwrite(dst_fn, img)\n",
    "        # camera\n",
    "        src_fn = osp.join(src_cam_dir, f + \".json\")\n",
    "        shutil.copy(src_fn, dst_cam_dir)\n",
    "        # ! test no depth\n",
    "        src_fn = osp.join(src_vis_dir, f + \".png\")\n",
    "        shutil.copy(src_fn, dst_vis_dir)\n",
    "\n",
    "    # read train.json\n",
    "    train_js = osp.join(src, \"splits\", \"train.json\")\n",
    "    with open(train_js, \"r\") as f:\n",
    "        train_js_data = json.load(f)\n",
    "    print(train_js_data.keys())\n",
    "    train_frames = train_js_data[\"frame_names\"]\n",
    "    src_image_dir = osp.join(src, \"rgb\", \"2x\")\n",
    "    dst_image_dir = osp.join(dst, \"images\")\n",
    "    os.makedirs(dst_image_dir, exist_ok=True)\n",
    "\n",
    "    src_depth_dir = osp.join(src, \"depth\", \"2x\")\n",
    "    dst_depth_dir = osp.join(dst, \"gt_depth\")\n",
    "    os.makedirs(dst_depth_dir, exist_ok=True)\n",
    "\n",
    "    src_cam_dir = osp.join(src, \"camera\")\n",
    "    dst_cam_dir = osp.join(dst, \"cameras\")\n",
    "    os.makedirs(dst_cam_dir, exist_ok=True)\n",
    "\n",
    "    for tid, f in tqdm(enumerate(train_frames)):\n",
    "        if tid % SKIP != 0:\n",
    "            continue\n",
    "        # image\n",
    "        src_fn = osp.join(src_image_dir, f + \".png\")\n",
    "        assert osp.exists(src_fn), f\"{src_fn} does not exist\"\n",
    "        img = cv.imread(src_fn)\n",
    "        dst_fn = osp.join(dst_image_dir, f + \".png\")\n",
    "        cv.imwrite(dst_fn, img)\n",
    "        # depth\n",
    "        src_fn = osp.join(src_depth_dir, f + \".npy\")\n",
    "        dep = np.load(src_fn).squeeze(-1)\n",
    "        dst_fn = osp.join(dst_depth_dir, f + \".npz\")\n",
    "        np.savez_compressed(dst_fn, dep=dep)\n",
    "        # camera\n",
    "        src_fn = osp.join(src_cam_dir, f + \".json\")\n",
    "        shutil.copy(src_fn, dst_cam_dir)"
   ]
  }
 ],
 "metadata": {
  "kernelspec": {
   "display_name": "vid24d",
   "language": "python",
   "name": "python3"
  },
  "language_info": {
   "codemirror_mode": {
    "name": "ipython",
    "version": 3
   },
   "file_extension": ".py",
   "mimetype": "text/x-python",
   "name": "python",
   "nbconvert_exporter": "python",
   "pygments_lexer": "ipython3",
   "version": "3.10.13"
  }
 },
 "nbformat": 4,
 "nbformat_minor": 2
}
