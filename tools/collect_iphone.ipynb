{
 "cells": [
  {
   "cell_type": "code",
   "execution_count": 3,
   "metadata": {},
   "outputs": [
    {
     "name": "stderr",
     "output_type": "stream",
     "text": [
      " 29%|██▊       | 2/7 [00:00<00:00, 10.85it/s]"
     ]
    },
    {
     "name": "stdout",
     "output_type": "stream",
     "text": [
      "['AVE' 0 0 0 17.73288980821021 0.7481891409795087 0.4076590382000989]\n",
      "apple\n",
      "../data/iphone_final/apple/log/native_iphone_nophoto.yaml_dep=gt_gt_cam=True_20240518_200407/tto_dycheck_metrics.xlsx\n",
      "17.73288980821021 0.7481891409795087 0.4076590382000989\n",
      "['AVE' 0 0 0 17.0722201031366 0.6385950483661005 0.3619766403904939]\n",
      "block\n",
      "../data/iphone_final/block/log/native_iphone_nophoto.yaml_dep=gt_gt_cam=True_20240518_191433/tto_dycheck_metrics.xlsx\n",
      "17.0722201031366 0.6385950483661005 0.3619766403904939\n",
      "['AVE' 0 0 0 19.03712417857459 0.544687519281178 0.2204265078279092]\n",
      "paper-windmill\n",
      "../data/iphone_final/paper-windmill/log/native_iphone_nophoto.yaml_dep=gt_gt_cam=True_20240518_191739/tto_dycheck_metrics.xlsx\n",
      "19.03712417857459 0.544687519281178 0.2204265078279092\n"
     ]
    },
    {
     "name": "stderr",
     "output_type": "stream",
     "text": [
      " 57%|█████▋    | 4/7 [00:00<00:00, 11.14it/s]"
     ]
    },
    {
     "name": "stdout",
     "output_type": "stream",
     "text": [
      "['AVE' 0 0 0 19.23026942786666 0.6626377099586128 0.2502416361686485]\n",
      "space-out\n",
      "../data/iphone_final/space-out/log/native_iphone_nophoto.yaml_dep=gt_gt_cam=True_20240518_200934/tto_dycheck_metrics.xlsx\n",
      "19.23026942786666 0.6626377099586128 0.2502416361686485\n",
      "['AVE' 0 0 0 18.59566911237722 0.6180387017551882 0.2619313171250714]\n",
      "spin\n",
      "../data/iphone_final/spin/log/native_iphone_nophoto.yaml_dep=gt_gt_cam=True_20240518_191536/tto_dycheck_metrics.xlsx\n",
      "18.59566911237722 0.6180387017551882 0.2619313171250714\n"
     ]
    },
    {
     "name": "stderr",
     "output_type": "stream",
     "text": [
      "100%|██████████| 7/7 [00:00<00:00, 11.55it/s]"
     ]
    },
    {
     "name": "stdout",
     "output_type": "stream",
     "text": [
      "['AVE' 0 0 0 14.36950697039449 0.5727513453295064 0.4303124335689617]\n",
      "teddy\n",
      "../data/iphone_final/teddy/log/native_iphone_nophoto.yaml_dep=gt_gt_cam=True_20240518_192042/tto_dycheck_metrics.xlsx\n",
      "14.36950697039449 0.5727513453295064 0.4303124335689617\n",
      "['AVE' 0 0 0 12.99253873520246 0.3943543360657888 0.4058090726561242]\n",
      "wheel\n",
      "../data/iphone_final/wheel/log/native_iphone_nophoto.yaml_dep=gt_gt_cam=True_20240518_195037/tto_dycheck_metrics.xlsx\n",
      "12.99253873520246 0.3943543360657888 0.4058090726561242\n"
     ]
    },
    {
     "name": "stderr",
     "output_type": "stream",
     "text": [
      "\n"
     ]
    }
   ],
   "source": [
    "import os, os.path as osp\n",
    "import pandas as pd\n",
    "from tqdm import tqdm\n",
    "import datetime\n",
    "import shutil\n",
    "\n",
    "scene_name_list = [\n",
    "    \"apple\",\n",
    "    \"block\",\n",
    "    \"paper-windmill\",\n",
    "    \"space-out\",\n",
    "    \"spin\",\n",
    "    \"teddy\",\n",
    "    \"wheel\",\n",
    "]\n",
    "\n",
    "root = \"../data/iphone_final/\"\n",
    "# root = \"../data/iphone_1x_raw/\"\n",
    "\n",
    "# get curent time stamp\n",
    "backup_root = \"../data/iphone_dev_eval_backup\"\n",
    "# name = \"iphone_single_ref.yaml\"\n",
    "# name=\"native_iphone.yaml_dep=uni_gt_cam=True\"\n",
    "# name = \"native_iphone.yaml_dep=gt_gt_cam=False\"\n",
    "name = \"native_iphone_nophoto.yaml_dep=gt_gt_cam=True\"\n",
    "\n",
    "# name = \"gof_iphone.yaml_dep=gt_gt_cam=True\"\n",
    "# name = \"gof_iphone_notto.yaml_dep=gt_gt_cam=True\"\n",
    "\n",
    "backup_flag = False\n",
    "\n",
    "\n",
    "for tto_flag in [True]:\n",
    "    prefix = \"tto_\" if tto_flag else \"\"\n",
    "    backup_dir = osp.join(\n",
    "        backup_root, prefix + name + datetime.datetime.now().strftime(\"%Y%m%d_%H%M%S\")\n",
    "    )\n",
    "    os.makedirs(backup_dir, exist_ok=True)\n",
    "\n",
    "    results = {}\n",
    "    for scene_name in tqdm(scene_name_list):\n",
    "        # find the latest log\n",
    "        log_dirs = os.listdir(osp.join(root, scene_name, \"log\"))\n",
    "        log_dirs = [d for d in log_dirs if name in d]\n",
    "\n",
    "        log_dirs.sort()\n",
    "        log_dir = log_dirs[-1]\n",
    "        fn = osp.join(root, scene_name, \"log\", log_dir, f\"{prefix}dycheck_metrics.xlsx\")\n",
    "        if not osp.exists(fn):\n",
    "            print(\"file not found\", fn)\n",
    "            psnr = 0\n",
    "            ssim = 0\n",
    "            lpips = 1000000\n",
    "        else:\n",
    "            # read the first line of xls\n",
    "            df = pd.read_excel(fn).to_numpy()\n",
    "\n",
    "            psnr = float(df[0][-3])\n",
    "            ssim = float(df[0][-2])\n",
    "            lpips = float(df[0][-1])\n",
    "            print(df[0])\n",
    "        print(scene_name)\n",
    "        print(fn)\n",
    "        print(psnr, ssim, lpips)\n",
    "        results[f\"{scene_name}-psnr\"] = psnr\n",
    "        results[f\"{scene_name}-ssim\"] = ssim\n",
    "        results[f\"{scene_name}-lpips\"] = lpips\n",
    "\n",
    "        if backup_flag:\n",
    "            # copy the log_dir into the backup\n",
    "            shutil.copytree(\n",
    "                osp.join(root, scene_name, \"log\", log_dir, f\"{prefix}test\"),\n",
    "                osp.join(backup_dir, prefix + scene_name + f\"{log_dir}_test\"),\n",
    "            )\n",
    "            # shutil.copytree(\n",
    "            #     osp.join(root, scene_name, \"log\", log_dir, \"test_viz\"),\n",
    "            #     osp.join(backup_dir, prefix + scene_name + f\"{log_dir}_test_viz\"),\n",
    "            # )\n",
    "    df = pd.DataFrame([results], index=[0])\n",
    "    df.to_excel(\n",
    "        osp.join(backup_dir, f\"{prefix}{name}_iphone_collected_masked_metrics.xlsx\")\n",
    "    )"
   ]
  },
  {
   "cell_type": "code",
   "execution_count": null,
   "metadata": {},
   "outputs": [],
   "source": []
  }
 ],
 "metadata": {
  "kernelspec": {
   "display_name": "vid24d",
   "language": "python",
   "name": "python3"
  },
  "language_info": {
   "codemirror_mode": {
    "name": "ipython",
    "version": 3
   },
   "file_extension": ".py",
   "mimetype": "text/x-python",
   "name": "python",
   "nbconvert_exporter": "python",
   "pygments_lexer": "ipython3",
   "version": "3.10.13"
  }
 },
 "nbformat": 4,
 "nbformat_minor": 2
}
