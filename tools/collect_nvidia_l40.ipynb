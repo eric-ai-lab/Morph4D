{
 "cells": [
  {
   "cell_type": "code",
   "execution_count": 3,
   "metadata": {},
   "outputs": [
    {
     "name": "stderr",
     "output_type": "stream",
     "text": [
      "  0%|          | 0/7 [00:00<?, ?it/s]"
     ]
    },
    {
     "name": "stdout",
     "output_type": "stream",
     "text": [
      "Jumping\n",
      "../data/nvidia_dev_U/Jumping/log/native_nvidia_sk_grow.yaml_dep=uni_gt_cam=False_20240513_063450/tto_test_report/nvidia_render_metrics.txt\n",
      "['PSNR: 25.411976\\n', 'SSIM: 0.834388\\n', 'LPIPS: 0.083876\\n']\n",
      "25.411976 0.834388 0.083876\n"
     ]
    },
    {
     "name": "stderr",
     "output_type": "stream",
     "text": [
      " 14%|█▍        | 1/7 [00:07<00:44,  7.38s/it]"
     ]
    },
    {
     "name": "stdout",
     "output_type": "stream",
     "text": [
      "Skating\n",
      "../data/nvidia_dev_U/Skating/log/native_nvidia_sk_grow.yaml_dep=uni_gt_cam=False_20240513_055553/tto_test_report/nvidia_render_metrics.txt\n",
      "['PSNR: 32.780794\\n', 'SSIM: 0.938801\\n', 'LPIPS: 0.033447\\n']\n",
      "32.780794 0.938801 0.033447\n"
     ]
    },
    {
     "name": "stderr",
     "output_type": "stream",
     "text": [
      " 29%|██▊       | 2/7 [00:11<00:26,  5.32s/it]"
     ]
    },
    {
     "name": "stdout",
     "output_type": "stream",
     "text": [
      "Truck\n",
      "../data/nvidia_dev_U/Truck/log/native_nvidia_sk_grow.yaml_dep=uni_gt_cam=False_20240513_060745/tto_test_report/nvidia_render_metrics.txt\n",
      "['PSNR: 28.173633\\n', 'SSIM: 0.854444\\n', 'LPIPS: 0.086175\\n']\n",
      "28.173633 0.854444 0.086175\n"
     ]
    },
    {
     "name": "stderr",
     "output_type": "stream",
     "text": [
      " 43%|████▎     | 3/7 [00:16<00:21,  5.27s/it]"
     ]
    },
    {
     "name": "stdout",
     "output_type": "stream",
     "text": [
      "Umbrella\n",
      "../data/nvidia_dev_U/Umbrella/log/native_nvidia_sk_grow.yaml_dep=uni_gt_cam=False_20240513_064812/tto_test_report/nvidia_render_metrics.txt\n",
      "['PSNR: 24.420211\\n', 'SSIM: 0.774950\\n', 'LPIPS: 0.092049\\n']\n",
      "24.420211 0.77495 0.092049\n"
     ]
    },
    {
     "name": "stderr",
     "output_type": "stream",
     "text": [
      " 57%|█████▋    | 4/7 [00:21<00:15,  5.12s/it]"
     ]
    },
    {
     "name": "stdout",
     "output_type": "stream",
     "text": [
      "Balloon1\n",
      "../data/nvidia_dev_U/Balloon1/log/native_nvidia_sk_grow.yaml_dep=uni_gt_cam=False_20240513_070326/tto_test_report/nvidia_render_metrics.txt\n",
      "['PSNR: 23.311349\\n', 'SSIM: 0.812308\\n', 'LPIPS: 0.090989\\n']\n",
      "23.311349 0.812308 0.090989\n"
     ]
    },
    {
     "name": "stderr",
     "output_type": "stream",
     "text": [
      " 71%|███████▏  | 5/7 [00:26<00:10,  5.18s/it]"
     ]
    },
    {
     "name": "stdout",
     "output_type": "stream",
     "text": [
      "Balloon2\n",
      "../data/nvidia_dev_U/Balloon2/log/native_nvidia_sk_grow.yaml_dep=uni_gt_cam=False_20240513_062102/tto_test_report/nvidia_render_metrics.txt\n",
      "['PSNR: 28.886124\\n', 'SSIM: 0.902076\\n', 'LPIPS: 0.041440\\n']\n",
      "28.886124 0.902076 0.04144\n"
     ]
    },
    {
     "name": "stderr",
     "output_type": "stream",
     "text": [
      " 86%|████████▌ | 6/7 [00:32<00:05,  5.27s/it]"
     ]
    },
    {
     "name": "stdout",
     "output_type": "stream",
     "text": [
      "Playground\n",
      "../data/nvidia_dev_U/Playground/log/native_nvidia_sk_grow.yaml_dep=uni_gt_cam=False_20240513_054032/tto_test_report/nvidia_render_metrics.txt\n",
      "['PSNR: 23.193891\\n', 'SSIM: 0.883145\\n', 'LPIPS: 0.058263\\n']\n",
      "23.193891 0.883145 0.058263\n"
     ]
    },
    {
     "name": "stderr",
     "output_type": "stream",
     "text": [
      "100%|██████████| 7/7 [00:42<00:00,  6.07s/it]\n"
     ]
    }
   ],
   "source": [
    "import os, os.path as osp\n",
    "import pandas as pd\n",
    "from tqdm import tqdm\n",
    "import datetime\n",
    "import shutil\n",
    "\n",
    "scene_name_list = [\n",
    "    \"Jumping\",\n",
    "    \"Skating\",\n",
    "    \"Truck\",\n",
    "    \"Umbrella\",\n",
    "    \"Balloon1\",\n",
    "    \"Balloon2\",\n",
    "    \"Playground\",\n",
    "]\n",
    "\n",
    "root = \"../data/nvidia_dev_U/\"\n",
    "\n",
    "# get curent time stamp\n",
    "backup_root = \"../data/nvidia_dev_eval_backup\"\n",
    "name = \"native_nvidia_sk_grow.yaml_dep=uni_gt_cam=False\"\n",
    "prefix = \"tto_\"\n",
    "full_backup=False\n",
    "\n",
    "backup_dir = osp.join(\n",
    "    backup_root, prefix + name + datetime.datetime.now().strftime(\"%Y%m%d_%H%M%S\")\n",
    ")\n",
    "\n",
    "results = {}\n",
    "for scene_name in tqdm(scene_name_list):\n",
    "    # find the latest log\n",
    "    log_dirs = os.listdir(osp.join(root, scene_name, \"log\"))\n",
    "    log_dirs = [d for d in log_dirs if name in d]\n",
    "\n",
    "    log_dirs.sort()\n",
    "    log_dir = log_dirs[-1]\n",
    "    fn = osp.join(\n",
    "        root,\n",
    "        scene_name,\n",
    "        \"log\",\n",
    "        log_dir,\n",
    "        f\"{prefix}test_report\",\n",
    "        \"nvidia_render_metrics.txt\",\n",
    "    )\n",
    "    assert osp.exists(fn), f\"{fn} does not exist\"\n",
    "    with open(fn, \"r\") as f:\n",
    "        lines = f.readlines()\n",
    "    psnr = float(lines[0].split(\":\")[-1][:-1])\n",
    "    ssim = float(lines[1].split(\":\")[-1][:-1])\n",
    "    lpips = float(lines[2].split(\":\")[-1][:-1])\n",
    "    print(scene_name)\n",
    "    print(fn)\n",
    "    print(lines)\n",
    "    print(psnr, ssim, lpips)\n",
    "    results[f\"{scene_name}-psnr\"] = psnr\n",
    "    # results[f\"{scene_name}-ssim\"] = ssim\n",
    "    results[f\"{scene_name}-lpips\"] = lpips\n",
    "    # copy the log_dir into the backup\n",
    "    if full_backup:\n",
    "        shutil.copytree(\n",
    "            osp.join(root, scene_name, \"log\", log_dir),\n",
    "            osp.join(backup_dir, f\"{scene_name}_{log_dir}\"),\n",
    "        )\n",
    "    else:\n",
    "        shutil.copytree(\n",
    "            osp.join(root, scene_name, \"log\", log_dir, f\"{prefix}test\"),\n",
    "            osp.join(backup_dir, scene_name + \"_test\"),\n",
    "        )\n",
    "        shutil.copytree(\n",
    "            osp.join(root, scene_name, \"log\", log_dir, f\"{prefix}test_report\"),\n",
    "            osp.join(backup_dir, scene_name + \"_test_report\"),\n",
    "        )\n",
    "df = pd.DataFrame([results], index=[0])\n",
    "df.to_excel(osp.join(backup_dir, f\"{prefix}{name}_nvidia_metrics.xlsx\"))"
   ]
  }
 ],
 "metadata": {
  "kernelspec": {
   "display_name": "vid24d",
   "language": "python",
   "name": "python3"
  },
  "language_info": {
   "codemirror_mode": {
    "name": "ipython",
    "version": 3
   },
   "file_extension": ".py",
   "mimetype": "text/x-python",
   "name": "python",
   "nbconvert_exporter": "python",
   "pygments_lexer": "ipython3",
   "version": "3.10.14"
  }
 },
 "nbformat": 4,
 "nbformat_minor": 2
}
