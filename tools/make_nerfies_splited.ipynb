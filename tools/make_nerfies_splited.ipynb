{
 "cells": [
  {
   "cell_type": "code",
   "execution_count": 15,
   "metadata": {},
   "outputs": [
    {
     "name": "stderr",
     "output_type": "stream",
     "text": [
      "  0%|          | 0/4 [00:00<?, ?it/s]"
     ]
    },
    {
     "name": "stdout",
     "output_type": "stream",
     "text": [
      "broom2\n"
     ]
    },
    {
     "name": "stderr",
     "output_type": "stream",
     "text": [
      " 25%|██▌       | 1/4 [00:01<00:03,  1.22s/it]"
     ]
    },
    {
     "name": "stdout",
     "output_type": "stream",
     "text": [
      "peel-banana\n"
     ]
    },
    {
     "name": "stderr",
     "output_type": "stream",
     "text": [
      " 50%|█████     | 2/4 [00:04<00:04,  2.31s/it]"
     ]
    },
    {
     "name": "stdout",
     "output_type": "stream",
     "text": [
      "3dprinter\n"
     ]
    },
    {
     "name": "stderr",
     "output_type": "stream",
     "text": [
      " 75%|███████▌  | 3/4 [00:05<00:01,  1.80s/it]"
     ]
    },
    {
     "name": "stdout",
     "output_type": "stream",
     "text": [
      "chicken\n"
     ]
    },
    {
     "name": "stderr",
     "output_type": "stream",
     "text": [
      "100%|██████████| 4/4 [00:06<00:00,  1.61s/it]\n"
     ]
    }
   ],
   "source": [
    "import shutil\n",
    "import imageio\n",
    "from tqdm import tqdm\n",
    "import os, os.path as osp\n",
    "\n",
    "src = \"../data/hypernerf_dev_dbg/\"\n",
    "dst = \"../data/hypernerf_dev_dbg_split/\"\n",
    "\n",
    "for scene_name in tqdm(os.listdir(src)):\n",
    "    print(scene_name)\n",
    "    working_dir = osp.join(src, scene_name)\n",
    "\n",
    "    # i = 1\n",
    "    # j = 0\n",
    "    i = 0\n",
    "    j = 1\n",
    "\n",
    "    dst_dir = osp.join(dst, scene_name + f\"_{i}_{j}\")\n",
    "    os.makedirs(dst_dir, exist_ok=True)\n",
    "    \n",
    "    # os.makedirs(osp.join(working_dir, \"images\"), exist_ok=True)\n",
    "    # os.makedirs(osp.join(working_dir, \"cameras\"), exist_ok=True)\n",
    "    # cmd = f\"cp -r {working_dir}/test_images {dst_dir}/\"\n",
    "    # print(cmd)\n",
    "    # os.system(cmd)\n",
    "    # cmd = f\"cp -r {working_dir}/test_cameras {dst_dir}/\"\n",
    "    # print(cmd)\n",
    "    # os.system(cmd)\n",
    "\n",
    "    img_dst = osp.join(dst_dir, \"images\")\n",
    "    cam_dst = osp.join(dst_dir, \"cameras\")\n",
    "    os.makedirs(img_dst, exist_ok=True)\n",
    "    os.makedirs(cam_dst, exist_ok=True)\n",
    "    for fn in os.listdir(osp.join(working_dir, \"images\")):\n",
    "        if fn.startswith(f\"{i}_\"):\n",
    "            cmd = f\"cp {osp.join(working_dir, 'images', fn)} {osp.join(img_dst, fn)}\"\n",
    "            os.system(cmd)\n",
    "    for fn in os.listdir(osp.join(working_dir, \"cameras\")):\n",
    "        if fn.startswith(f\"{i}_\"):\n",
    "            cmd = f\"cp {osp.join(working_dir, 'cameras', fn)} {osp.join(cam_dst, fn)}\"\n",
    "            os.system(cmd)\n",
    "    \n",
    "    img_dst = osp.join(dst_dir, \"test_images\")\n",
    "    cam_dst = osp.join(dst_dir, \"test_cameras\")\n",
    "    os.makedirs(img_dst, exist_ok=True)\n",
    "    os.makedirs(cam_dst, exist_ok=True)\n",
    "    for fn in os.listdir(osp.join(working_dir, \"test_images\")):\n",
    "        if fn.startswith(f\"{j}_\"):\n",
    "            cmd = f\"cp {osp.join(working_dir, 'test_images', fn)} {osp.join(img_dst, fn)}\"\n",
    "            os.system(cmd)\n",
    "    for fn in os.listdir(osp.join(working_dir, \"test_cameras\")):\n",
    "        if fn.startswith(f\"{j}_\"):\n",
    "            cmd = f\"cp {osp.join(working_dir, 'test_cameras', fn)} {osp.join(cam_dst, fn)}\"\n",
    "            os.system(cmd)"
   ]
  }
 ],
 "metadata": {
  "kernelspec": {
   "display_name": "vid24d",
   "language": "python",
   "name": "python3"
  },
  "language_info": {
   "codemirror_mode": {
    "name": "ipython",
    "version": 3
   },
   "file_extension": ".py",
   "mimetype": "text/x-python",
   "name": "python",
   "nbconvert_exporter": "python",
   "pygments_lexer": "ipython3",
   "version": "3.10.13"
  }
 },
 "nbformat": 4,
 "nbformat_minor": 2
}
